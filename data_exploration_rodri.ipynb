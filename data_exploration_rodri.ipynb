{
 "cells": [
  {
   "cell_type": "code",
   "execution_count": 29,
   "metadata": {},
   "outputs": [],
   "source": [
    "#load the data\n",
    "import pandas as pd\n",
    "import numpy as np\n",
    "train = pd.read_csv('data/train.csv')\n",
    "test = pd.read_csv('data/test.csv')\n",
    "\n",
    "#drop ID column\n",
    "train = train.drop(['ID'], axis=1)\n",
    "test = test.drop(['ID'], axis=1)"
   ]
  },
  {
   "cell_type": "code",
   "execution_count": 31,
   "metadata": {},
   "outputs": [
    {
     "name": "stdout",
     "output_type": "stream",
     "text": [
      "Train: parentspecies    210\n",
      "dtype: int64\n",
      "Test: parentspecies    33\n",
      "dtype: int64\n"
     ]
    }
   ],
   "source": [
    "#we find that there are some molecules which are not classified as any parentspecies\n",
    "# the only column with missing data is the ParentSpecies column\n",
    "nan_columns_train = train.isnull().sum()\n",
    "nan_columns_test = test.isnull().sum()\n",
    "print(f'Train: {nan_columns_train[nan_columns_train > 0]}')\n",
    "print(f'Test: {nan_columns_test[nan_columns_test > 0]}')"
   ]
  },
  {
   "cell_type": "code",
   "execution_count": 32,
   "metadata": {},
   "outputs": [],
   "source": [
    "#we decide to drop them\n",
    "train = train.dropna()\n",
    "test = test.dropna()"
   ]
  },
  {
   "cell_type": "code",
   "execution_count": null,
   "metadata": {},
   "outputs": [],
   "source": [
    "#furthermore we realize that the 'parentspecies' column has a mixture of categorical variables\n"
   ]
  }
 ],
 "metadata": {
  "kernelspec": {
   "display_name": "Python 3",
   "language": "python",
   "name": "python3"
  },
  "language_info": {
   "codemirror_mode": {
    "name": "ipython",
    "version": 3
   },
   "file_extension": ".py",
   "mimetype": "text/x-python",
   "name": "python",
   "nbconvert_exporter": "python",
   "pygments_lexer": "ipython3",
   "version": "3.10.12"
  }
 },
 "nbformat": 4,
 "nbformat_minor": 2
}
