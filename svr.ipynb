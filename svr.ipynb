{
 "cells": [
  {
   "cell_type": "code",
   "execution_count": 1,
   "metadata": {},
   "outputs": [],
   "source": [
    "import pandas as pd\n",
    "from sklearn.svm import SVR\n",
    "from sklearn.model_selection import cross_val_score\n",
    "import numpy as np\n",
    "from scipy.stats import boxcox\n",
    "from scipy.special import inv_boxcox\n",
    "import seaborn as sns\n",
    "import matplotlib.pyplot as plt\n",
    "from sklearn.decomposition import KernelPCA\n",
    "\n",
    "test = pd.read_csv('data/test.csv')\n",
    "target_ids = np.array(test['ID']).flatten()\n",
    "\n",
    "X_train = pd.read_csv('X_train.csv')\n",
    "y_train = pd.read_csv('y_train.csv').squeeze()\n",
    "X_test = pd.read_csv('X_test.csv')\n",
    "\n",
    "###########################################################\n",
    "#apply boxcox to y_train\n",
    "#box-cox for target skewness (svr will benefit from it), first we make the data positive\n",
    "if (y_train.min() <= 0):\n",
    "    y_shift = y_train - y_train.min() + 1  # Shift to make all values positive\n",
    "else:\n",
    "    y_shift = y_train\n",
    "\n",
    "y_train_boxcox, lambda_bc = boxcox(y_shift)"
   ]
  },
  {
   "cell_type": "code",
   "execution_count": 2,
   "metadata": {},
   "outputs": [
    {
     "name": "stdout",
     "output_type": "stream",
     "text": [
      "KPCA tranformed\n"
     ]
    }
   ],
   "source": [
    "from sklearn.utils import resample\n",
    "X_train_sample = resample(X_train, n_samples=10000, random_state=123)\n",
    "kpca = KernelPCA(kernel='rbf', n_components=25)\n",
    "kpca.fit(X_train_sample)\n",
    "X_train_kpca = kpca.transform(X_train)\n",
    "X_test_kpca = kpca.transform(X_test)\n",
    "\n",
    "print('KPCA tranformed')"
   ]
  },
  {
   "cell_type": "code",
   "execution_count": 6,
   "metadata": {},
   "outputs": [
    {
     "name": "stdout",
     "output_type": "stream",
     "text": [
      "Fitting 5 folds for each of 8 candidates, totalling 40 fits\n",
      "[CV 3/5] END C=3.512525252234114, epsilon=0.07994092564308926, gamma=auto, kernel=rbf;, score=0.684 total time= 1.0min\n",
      "[CV 2/5] END C=3.512525252234114, epsilon=0.07994092564308926, gamma=auto, kernel=rbf;, score=0.678 total time= 1.0min\n",
      "[CV 5/5] END C=2.9724916167243354, epsilon=0.08190677156733267, gamma=auto, kernel=rbf;, score=0.692 total time= 1.0min\n",
      "[CV 4/5] END C=2.9724916167243354, epsilon=0.08190677156733267, gamma=auto, kernel=rbf;, score=0.676 total time= 1.0min\n",
      "[CV 3/5] END C=2.9724916167243354, epsilon=0.08190677156733267, gamma=auto, kernel=rbf;, score=0.682 total time= 1.0min\n",
      "[CV 1/5] END C=3.512525252234114, epsilon=0.07994092564308926, gamma=auto, kernel=rbf;, score=0.697 total time= 1.1min\n",
      "[CV 1/5] END C=2.9724916167243354, epsilon=0.08190677156733267, gamma=auto, kernel=rbf;, score=0.696 total time= 1.1min\n",
      "[CV 2/5] END C=2.9724916167243354, epsilon=0.08190677156733267, gamma=auto, kernel=rbf;, score=0.677 total time= 1.1min\n",
      "[CV 4/5] END C=3.512525252234114, epsilon=0.07994092564308926, gamma=auto, kernel=rbf;, score=0.677 total time= 1.0min\n",
      "[CV 5/5] END C=3.512525252234114, epsilon=0.07994092564308926, gamma=auto, kernel=rbf;, score=0.693 total time= 1.0min\n",
      "[CV 4/5] END C=5.623489757705725, epsilon=0.02635889542201332, gamma=auto, kernel=rbf;, score=0.681 total time= 1.0min\n",
      "[CV 3/5] END C=5.623489757705725, epsilon=0.02635889542201332, gamma=auto, kernel=rbf;, score=0.688 total time= 1.1min\n",
      "[CV 1/5] END C=5.623489757705725, epsilon=0.02635889542201332, gamma=auto, kernel=rbf;, score=0.702 total time= 1.1min\n",
      "[CV 5/5] END C=5.623489757705725, epsilon=0.02635889542201332, gamma=auto, kernel=rbf;, score=0.698 total time= 1.1min\n",
      "[CV 1/5] END C=1.0597708368510905, epsilon=0.006846072919687972, gamma=auto, kernel=rbf;, score=0.687 total time= 1.1min\n",
      "[CV 2/5] END C=5.623489757705725, epsilon=0.02635889542201332, gamma=auto, kernel=rbf;, score=0.683 total time= 1.1min\n",
      "[CV 3/5] END C=1.0597708368510905, epsilon=0.006846072919687972, gamma=auto, kernel=rbf;, score=0.674 total time=  59.9s\n",
      "[CV 2/5] END C=1.0597708368510905, epsilon=0.006846072919687972, gamma=auto, kernel=rbf;, score=0.669 total time= 1.0min\n",
      "[CV 1/5] END C=6.742923807698442, epsilon=0.07078296570017101, gamma=auto, kernel=rbf;, score=0.704 total time= 1.0min\n",
      "[CV 4/5] END C=1.0597708368510905, epsilon=0.006846072919687972, gamma=auto, kernel=rbf;, score=0.668 total time= 1.1min\n",
      "[CV 3/5] END C=6.742923807698442, epsilon=0.07078296570017101, gamma=auto, kernel=rbf;, score=0.691 total time= 1.0min\n",
      "[CV 2/5] END C=6.742923807698442, epsilon=0.07078296570017101, gamma=auto, kernel=rbf;, score=0.685 total time= 1.1min\n",
      "[CV 5/5] END C=1.0597708368510905, epsilon=0.006846072919687972, gamma=auto, kernel=rbf;, score=0.684 total time= 1.1min\n",
      "[CV 4/5] END C=6.742923807698442, epsilon=0.07078296570017101, gamma=auto, kernel=rbf;, score=0.683 total time= 1.1min\n",
      "[CV 5/5] END C=6.742923807698442, epsilon=0.07078296570017101, gamma=auto, kernel=rbf;, score=0.700 total time= 1.0min\n",
      "[CV 1/5] END C=7.337832059516539, epsilon=0.07978740584977105, gamma=auto, kernel=rbf;, score=0.705 total time= 1.0min\n",
      "[CV 2/5] END C=7.337832059516539, epsilon=0.07978740584977105, gamma=auto, kernel=rbf;, score=0.686 total time= 1.0min\n",
      "[CV 4/5] END C=7.337832059516539, epsilon=0.07978740584977105, gamma=auto, kernel=rbf;, score=0.684 total time= 1.0min\n",
      "[CV 3/5] END C=7.337832059516539, epsilon=0.07978740584977105, gamma=auto, kernel=rbf;, score=0.692 total time= 1.0min\n",
      "[CV 5/5] END C=7.337832059516539, epsilon=0.07978740584977105, gamma=auto, kernel=rbf;, score=0.700 total time= 1.0min\n",
      "[CV 1/5] END C=0.7737632039359277, epsilon=0.03276805966199643, gamma=auto, kernel=rbf;, score=0.683 total time= 1.1min\n",
      "[CV 2/5] END C=0.7737632039359277, epsilon=0.03276805966199643, gamma=auto, kernel=rbf;, score=0.666 total time= 1.1min\n",
      "[CV 3/5] END C=0.7737632039359277, epsilon=0.03276805966199643, gamma=auto, kernel=rbf;, score=0.670 total time= 1.0min\n",
      "[CV 4/5] END C=0.7737632039359277, epsilon=0.03276805966199643, gamma=auto, kernel=rbf;, score=0.664 total time= 1.0min\n",
      "[CV 5/5] END C=0.7737632039359277, epsilon=0.03276805966199643, gamma=auto, kernel=rbf;, score=0.681 total time= 1.0min\n",
      "[CV 3/5] END C=7.420232771836268, epsilon=0.033849422917504805, gamma=auto, kernel=rbf;, score=0.692 total time=  59.3s\n",
      "[CV 2/5] END C=7.420232771836268, epsilon=0.033849422917504805, gamma=auto, kernel=rbf;, score=0.686 total time= 1.0min\n",
      "[CV 1/5] END C=7.420232771836268, epsilon=0.033849422917504805, gamma=auto, kernel=rbf;, score=0.705 total time= 1.0min\n",
      "[CV 4/5] END C=7.420232771836268, epsilon=0.033849422917504805, gamma=auto, kernel=rbf;, score=0.684 total time=  59.2s\n",
      "[CV 5/5] END C=7.420232771836268, epsilon=0.033849422917504805, gamma=auto, kernel=rbf;, score=0.701 total time= 1.0min\n",
      "Best Parameters: {'C': 7.420232771836268, 'epsilon': 0.033849422917504805, 'gamma': 'auto', 'kernel': 'rbf'}\n",
      "Best Cross-Validation Score (r2): 0.6934529609151584\n"
     ]
    }
   ],
   "source": [
    "from scipy.stats import uniform\n",
    "from sklearn.model_selection import RandomizedSearchCV\n",
    "\n",
    "param_distributions = {\n",
    "    'C': uniform(0.01, 10),         # Random values between 0.1 and 1000\n",
    "    'gamma': ['auto'],      # Random values between 0.001 and 1\n",
    "    'epsilon': uniform(0.001, 0.1),   # Random values between 0.01 and 0.5\n",
    "    'kernel': ['rbf']\n",
    "}\n",
    "\n",
    "# Define the model and RandomizedSearchCV\n",
    "svr = SVR()\n",
    "random_search = RandomizedSearchCV(\n",
    "    estimator=svr,\n",
    "    param_distributions=param_distributions,\n",
    "    n_iter=8,                        # Number of parameter combinations to try\n",
    "    scoring='r2', # Replace with your desired metric\n",
    "    cv=5,                             # 5-fold cross-validation\n",
    "    verbose=3,\n",
    "    random_state=69,\n",
    "    n_jobs=-1\n",
    ")\n",
    "# Fit to training data\n",
    "random_search.fit(X_train_kpca, y_train_boxcox)\n",
    "\n",
    "# Retrieve the best parameters, best score, and best model\n",
    "best_params = random_search.best_params_\n",
    "best_score = random_search.best_score_  # This is the mean CV score of the best model\n",
    "best_model = random_search.best_estimator_\n",
    "\n",
    "print(\"Best Parameters:\", best_params)\n",
    "print(\"Best Cross-Validation Score (r2):\", best_score)"
   ]
  }
 ],
 "metadata": {
  "kernelspec": {
   "display_name": "Python 3",
   "language": "python",
   "name": "python3"
  },
  "language_info": {
   "codemirror_mode": {
    "name": "ipython",
    "version": 3
   },
   "file_extension": ".py",
   "mimetype": "text/x-python",
   "name": "python",
   "nbconvert_exporter": "python",
   "pygments_lexer": "ipython3",
   "version": "3.10.12"
  }
 },
 "nbformat": 4,
 "nbformat_minor": 2
}
